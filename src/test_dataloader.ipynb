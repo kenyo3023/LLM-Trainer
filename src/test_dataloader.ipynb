{
 "cells": [
  {
   "cell_type": "code",
   "execution_count": 20,
   "metadata": {},
   "outputs": [
    {
     "data": {
      "text/plain": [
       "DatasetDict({\n",
       "    train: Dataset({\n",
       "        features: ['question', 'context', 'answer'],\n",
       "        num_rows: 10235\n",
       "    })\n",
       "    test: Dataset({\n",
       "        features: ['question', 'context', 'answer'],\n",
       "        num_rows: 2047\n",
       "    })\n",
       "})"
      ]
     },
     "execution_count": 20,
     "metadata": {},
     "output_type": "execute_result"
    }
   ],
   "source": [
    "import os\n",
    "from datasets import load_dataset, load_from_disk\n",
    "\n",
    "from dataloader.LukasSonn.DoxygenStringsLong.format import *\n",
    "\n",
    "\n",
    "dataset_name = 'LukasSonn/DoxygenStrings-Long'\n",
    "dataset_local_path = f'../dataset/{dataset_name}'\n",
    "\n",
    "# dataset = load_dataset(dataset_name)\n",
    "dataset = load_from_disk(dataset_local_path)\n",
    "dataset"
   ]
  },
  {
   "cell_type": "code",
   "execution_count": 21,
   "metadata": {},
   "outputs": [
    {
     "data": {
      "text/plain": [
       "{'context': \"[INST] <<SYS>>\\nYou are a helpful, respectful and honest assistant. Always answer as helpfully as possible, while being safe.  Your answers should not include any harmful, unethical, racist, sexist, toxic, dangerous, or illegal content. Please ensure that your responses are socially unbiased and positive in nature.\\n \\nIf a question does not make any sense, or is not factually coherent, explain why instead of answering something not correct. If you don't know the answer to a question, please don't share false information.\\n<</SYS>>\\n \\nFollowing <code> to generate corresponding doxygen.\\n \\n<code>\\n \\njstring toJstring(JNIEnv *env, const char* str, bool freeNative) {\\n    if (str == NULL) {\\n        return NULL;\\n    }\\n\\n    jstring jstr = env->NewStringUTF(str);\\n    if (freeNative) {\\n        free((void *) str);\\n    }\\n\\n    return jstr;\\n}\\n\\n \\n[/INST] /** @brief Helper function to create a jstring from a native string. Optionally it may free the native string if the freeNative argument is true.\\n*\\n*  This function creates a jstring from a native string, optionally freeing the native string if the freeNative argument is true.\\n*\\n* @param env The JNI environment.\\n* @param str The native string to convert to a jstring.\\n* @param freeNative Whether or not to free the native string after conversion.\\n* @return A jstring created from the native string, or NULL if the input string was NULL.\\n*/\\njstring toJstring(JNIEnv *env, const char* str, bool freeNative) \"}"
      ]
     },
     "execution_count": 21,
     "metadata": {},
     "output_type": "execute_result"
    }
   ],
   "source": [
    "sample = dataset['train'][0]\n",
    "\n",
    "format_context(sample, template='llama2')"
   ]
  },
  {
   "cell_type": "code",
   "execution_count": 22,
   "metadata": {},
   "outputs": [
    {
     "data": {
      "application/vnd.jupyter.widget-view+json": {
       "model_id": "18b3c3c2d4744e67bd20940a9bad6efe",
       "version_major": 2,
       "version_minor": 0
      },
      "text/plain": [
       "Map (num_proc=8):   0%|          | 0/10235 [00:00<?, ? examples/s]"
      ]
     },
     "metadata": {},
     "output_type": "display_data"
    },
    {
     "data": {
      "application/vnd.jupyter.widget-view+json": {
       "model_id": "b8b1c155345644a6a0c3551a7919134f",
       "version_major": 2,
       "version_minor": 0
      },
      "text/plain": [
       "Map (num_proc=8):   0%|          | 0/2047 [00:00<?, ? examples/s]"
      ]
     },
     "metadata": {},
     "output_type": "display_data"
    }
   ],
   "source": [
    "dataset = dataset.map(\n",
    "    format_context, \n",
    "    remove_columns = dataset[\"train\"].column_names,\n",
    "    num_proc = os.cpu_count()  \n",
    ")"
   ]
  },
  {
   "cell_type": "code",
   "execution_count": 23,
   "metadata": {},
   "outputs": [
    {
     "data": {
      "text/plain": [
       "DatasetDict({\n",
       "    train: Dataset({\n",
       "        features: ['question', 'context', 'answer'],\n",
       "        num_rows: 10235\n",
       "    })\n",
       "    test: Dataset({\n",
       "        features: ['question', 'context', 'answer'],\n",
       "        num_rows: 2047\n",
       "    })\n",
       "})"
      ]
     },
     "execution_count": 23,
     "metadata": {},
     "output_type": "execute_result"
    }
   ],
   "source": [
    "dataset"
   ]
  },
  {
   "cell_type": "code",
   "execution_count": 18,
   "metadata": {},
   "outputs": [
    {
     "data": {
      "text/plain": [
       "{'context': '<|im_start|>system\\nCreate a doxygen comment for the following C++ Function.<|im_end|>\\n\\n<|im_start|>user\\njstring toJstring(JNIEnv *env, const char* str, bool freeNative) {\\n    if (str == NULL) {\\n        return NULL;\\n    }\\n\\n    jstring jstr = env->NewStringUTF(str);\\n    if (freeNative) {\\n        free((void *) str);\\n    }\\n\\n    return jstr;\\n}\\n<|im_end|>\\n\\n<|im_start|>assistant\\n/** @brief Helper function to create a jstring from a native string. Optionally it may free the native string if the freeNative argument is true.\\n*\\n*  This function creates a jstring from a native string, optionally freeing the native string if the freeNative argument is true.\\n*\\n* @param env The JNI environment.\\n* @param str The native string to convert to a jstring.\\n* @param freeNative Whether or not to free the native string after conversion.\\n* @return A jstring created from the native string, or NULL if the input string was NULL.\\n*/\\njstring toJstring(JNIEnv *env, const char* str, bool freeNative) <|im_end|>'}"
      ]
     },
     "execution_count": 18,
     "metadata": {},
     "output_type": "execute_result"
    }
   ],
   "source": [
    "dataset['train'][0]"
   ]
  },
  {
   "cell_type": "code",
   "execution_count": null,
   "metadata": {},
   "outputs": [],
   "source": []
  }
 ],
 "metadata": {
  "kernelspec": {
   "display_name": "llm",
   "language": "python",
   "name": "python3"
  },
  "language_info": {
   "codemirror_mode": {
    "name": "ipython",
    "version": 3
   },
   "file_extension": ".py",
   "mimetype": "text/x-python",
   "name": "python",
   "nbconvert_exporter": "python",
   "pygments_lexer": "ipython3",
   "version": "3.10.13"
  }
 },
 "nbformat": 4,
 "nbformat_minor": 2
}
